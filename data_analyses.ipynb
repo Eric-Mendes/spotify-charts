{
  "nbformat": 4,
  "nbformat_minor": 0,
  "metadata": {
    "colab": {
      "name": "data_analyses.ipynb",
      "provenance": [],
      "authorship_tag": "ABX9TyOZ+1oVYX7GIroPXesHA/c6",
      "include_colab_link": true
    },
    "kernelspec": {
      "name": "python3",
      "display_name": "Python 3"
    }
  },
  "cells": [
    {
      "cell_type": "markdown",
      "metadata": {
        "id": "view-in-github",
        "colab_type": "text"
      },
      "source": [
        "<a href=\"https://colab.research.google.com/github/Eric-Mendes/spotify-charts/blob/main/data_analyses.ipynb\" target=\"_parent\"><img src=\"https://colab.research.google.com/assets/colab-badge.svg\" alt=\"Open In Colab\"/></a>"
      ]
    },
    {
      "cell_type": "markdown",
      "metadata": {
        "id": "yG7OEvH8e7OH"
      },
      "source": [
        "**SPOTIFY CHARTS**"
      ]
    },
    {
      "cell_type": "markdown",
      "metadata": {
        "id": "zu60_CyJqtye"
      },
      "source": [
        "Análise de dados feita no dataset de características das músicas para estudar as virais de cada região."
      ]
    },
    {
      "cell_type": "markdown",
      "metadata": {
        "id": "u0-zjKaVrOIy"
      },
      "source": [
        "São 100 samples de cada região por tanto é certo que os dados estão balanceados."
      ]
    },
    {
      "cell_type": "code",
      "metadata": {
        "id": "GVBKMLRxesPy"
      },
      "source": [
        "# importando as bibliotecas necessárias\n",
        "import pandas as pd # dados\n",
        "from matplotlib import pyplot as plt # gráficos"
      ],
      "execution_count": 6,
      "outputs": []
    },
    {
      "cell_type": "code",
      "metadata": {
        "colab": {
          "base_uri": "https://localhost:8080/",
          "height": 313
        },
        "id": "AdivxwtHkrYr",
        "outputId": "7e518e0a-2bba-43bb-af59-7581e94a3d39"
      },
      "source": [
        "# importando o dataset com as features de cada uma das músicas virais\n",
        "# em um dataframe\n",
        "url = \"https://raw.githubusercontent.com/Eric-Mendes/spotify-charts/main/data/\\\n",
        "spotify_api_caracteristicas_virais_08-02-2021.csv\"\n",
        "\n",
        "df = pd.read_csv(url)\n",
        "df.head()"
      ],
      "execution_count": 2,
      "outputs": [
        {
          "output_type": "execute_result",
          "data": {
            "text/html": [
              "<div>\n",
              "<style scoped>\n",
              "    .dataframe tbody tr th:only-of-type {\n",
              "        vertical-align: middle;\n",
              "    }\n",
              "\n",
              "    .dataframe tbody tr th {\n",
              "        vertical-align: top;\n",
              "    }\n",
              "\n",
              "    .dataframe thead th {\n",
              "        text-align: right;\n",
              "    }\n",
              "</style>\n",
              "<table border=\"1\" class=\"dataframe\">\n",
              "  <thead>\n",
              "    <tr style=\"text-align: right;\">\n",
              "      <th></th>\n",
              "      <th>DANCEABILITY</th>\n",
              "      <th>ENERGY</th>\n",
              "      <th>KEY</th>\n",
              "      <th>LOUDNESS</th>\n",
              "      <th>MODE</th>\n",
              "      <th>SPEECHINESS</th>\n",
              "      <th>ACOUSTICNESS</th>\n",
              "      <th>INSTRUMENTALNESS</th>\n",
              "      <th>LIVENESS</th>\n",
              "      <th>VALENCE</th>\n",
              "      <th>TEMPO</th>\n",
              "      <th>DURATION_MS</th>\n",
              "      <th>TIME_SIGNATURE</th>\n",
              "      <th>REGIÃO</th>\n",
              "    </tr>\n",
              "  </thead>\n",
              "  <tbody>\n",
              "    <tr>\n",
              "      <th>0</th>\n",
              "      <td>0.642</td>\n",
              "      <td>0.600</td>\n",
              "      <td>8</td>\n",
              "      <td>-2.718</td>\n",
              "      <td>1</td>\n",
              "      <td>0.4570</td>\n",
              "      <td>0.369</td>\n",
              "      <td>0.00000</td>\n",
              "      <td>0.2230</td>\n",
              "      <td>0.816</td>\n",
              "      <td>161.952</td>\n",
              "      <td>205427</td>\n",
              "      <td>5</td>\n",
              "      <td>BELO HORIZONTE</td>\n",
              "    </tr>\n",
              "    <tr>\n",
              "      <th>1</th>\n",
              "      <td>0.921</td>\n",
              "      <td>0.534</td>\n",
              "      <td>6</td>\n",
              "      <td>-0.485</td>\n",
              "      <td>0</td>\n",
              "      <td>0.3970</td>\n",
              "      <td>0.595</td>\n",
              "      <td>0.00000</td>\n",
              "      <td>0.1240</td>\n",
              "      <td>0.311</td>\n",
              "      <td>130.034</td>\n",
              "      <td>195692</td>\n",
              "      <td>4</td>\n",
              "      <td>BELO HORIZONTE</td>\n",
              "    </tr>\n",
              "    <tr>\n",
              "      <th>2</th>\n",
              "      <td>0.888</td>\n",
              "      <td>0.580</td>\n",
              "      <td>10</td>\n",
              "      <td>-0.496</td>\n",
              "      <td>1</td>\n",
              "      <td>0.2400</td>\n",
              "      <td>0.598</td>\n",
              "      <td>0.00000</td>\n",
              "      <td>0.1140</td>\n",
              "      <td>0.398</td>\n",
              "      <td>130.107</td>\n",
              "      <td>151038</td>\n",
              "      <td>4</td>\n",
              "      <td>BELO HORIZONTE</td>\n",
              "    </tr>\n",
              "    <tr>\n",
              "      <th>3</th>\n",
              "      <td>0.665</td>\n",
              "      <td>0.507</td>\n",
              "      <td>0</td>\n",
              "      <td>-11.036</td>\n",
              "      <td>1</td>\n",
              "      <td>0.0546</td>\n",
              "      <td>0.489</td>\n",
              "      <td>0.00102</td>\n",
              "      <td>0.1970</td>\n",
              "      <td>0.510</td>\n",
              "      <td>87.017</td>\n",
              "      <td>134574</td>\n",
              "      <td>4</td>\n",
              "      <td>BELO HORIZONTE</td>\n",
              "    </tr>\n",
              "    <tr>\n",
              "      <th>4</th>\n",
              "      <td>0.917</td>\n",
              "      <td>0.621</td>\n",
              "      <td>6</td>\n",
              "      <td>-3.779</td>\n",
              "      <td>0</td>\n",
              "      <td>0.1570</td>\n",
              "      <td>0.095</td>\n",
              "      <td>0.00000</td>\n",
              "      <td>0.0996</td>\n",
              "      <td>0.712</td>\n",
              "      <td>133.146</td>\n",
              "      <td>191567</td>\n",
              "      <td>4</td>\n",
              "      <td>BELO HORIZONTE</td>\n",
              "    </tr>\n",
              "  </tbody>\n",
              "</table>\n",
              "</div>"
            ],
            "text/plain": [
              "   DANCEABILITY  ENERGY  KEY  ...  DURATION_MS  TIME_SIGNATURE          REGIÃO\n",
              "0         0.642   0.600    8  ...       205427               5  BELO HORIZONTE\n",
              "1         0.921   0.534    6  ...       195692               4  BELO HORIZONTE\n",
              "2         0.888   0.580   10  ...       151038               4  BELO HORIZONTE\n",
              "3         0.665   0.507    0  ...       134574               4  BELO HORIZONTE\n",
              "4         0.917   0.621    6  ...       191567               4  BELO HORIZONTE\n",
              "\n",
              "[5 rows x 14 columns]"
            ]
          },
          "metadata": {
            "tags": []
          },
          "execution_count": 2
        }
      ]
    },
    {
      "cell_type": "code",
      "metadata": {
        "colab": {
          "base_uri": "https://localhost:8080/",
          "height": 226
        },
        "id": "WhqTwuevmHAT",
        "outputId": "1c39571a-abd7-4032-9829-14381509fa19"
      },
      "source": [
        "# mapeando cada região para um número para melhor análise\n",
        "\n",
        "def map_region_to_number(region):\n",
        "  if region == \"BELO HORIZONTE\":\n",
        "    return 0\n",
        "\n",
        "  elif region == \"SÃO PAULO\":\n",
        "    return 1\n",
        "\n",
        "  elif region == \"CURITIBA\":\n",
        "    return 2\n",
        "\n",
        "  elif region == \"BRASÍLIA\":\n",
        "    return 3\n",
        "\n",
        "  elif region == \"RIO DE JANEIRO\":\n",
        "    return 4\n",
        "\n",
        "\n",
        "regions = list(df['REGIÃO'])\n",
        "df['REGIÃO'] = list(map(map_region_to_number, regions))\n",
        "\n",
        "df.head()"
      ],
      "execution_count": 3,
      "outputs": [
        {
          "output_type": "execute_result",
          "data": {
            "text/html": [
              "<div>\n",
              "<style scoped>\n",
              "    .dataframe tbody tr th:only-of-type {\n",
              "        vertical-align: middle;\n",
              "    }\n",
              "\n",
              "    .dataframe tbody tr th {\n",
              "        vertical-align: top;\n",
              "    }\n",
              "\n",
              "    .dataframe thead th {\n",
              "        text-align: right;\n",
              "    }\n",
              "</style>\n",
              "<table border=\"1\" class=\"dataframe\">\n",
              "  <thead>\n",
              "    <tr style=\"text-align: right;\">\n",
              "      <th></th>\n",
              "      <th>DANCEABILITY</th>\n",
              "      <th>ENERGY</th>\n",
              "      <th>KEY</th>\n",
              "      <th>LOUDNESS</th>\n",
              "      <th>MODE</th>\n",
              "      <th>SPEECHINESS</th>\n",
              "      <th>ACOUSTICNESS</th>\n",
              "      <th>INSTRUMENTALNESS</th>\n",
              "      <th>LIVENESS</th>\n",
              "      <th>VALENCE</th>\n",
              "      <th>TEMPO</th>\n",
              "      <th>DURATION_MS</th>\n",
              "      <th>TIME_SIGNATURE</th>\n",
              "      <th>REGIÃO</th>\n",
              "    </tr>\n",
              "  </thead>\n",
              "  <tbody>\n",
              "    <tr>\n",
              "      <th>0</th>\n",
              "      <td>0.642</td>\n",
              "      <td>0.600</td>\n",
              "      <td>8</td>\n",
              "      <td>-2.718</td>\n",
              "      <td>1</td>\n",
              "      <td>0.4570</td>\n",
              "      <td>0.369</td>\n",
              "      <td>0.00000</td>\n",
              "      <td>0.2230</td>\n",
              "      <td>0.816</td>\n",
              "      <td>161.952</td>\n",
              "      <td>205427</td>\n",
              "      <td>5</td>\n",
              "      <td>0</td>\n",
              "    </tr>\n",
              "    <tr>\n",
              "      <th>1</th>\n",
              "      <td>0.921</td>\n",
              "      <td>0.534</td>\n",
              "      <td>6</td>\n",
              "      <td>-0.485</td>\n",
              "      <td>0</td>\n",
              "      <td>0.3970</td>\n",
              "      <td>0.595</td>\n",
              "      <td>0.00000</td>\n",
              "      <td>0.1240</td>\n",
              "      <td>0.311</td>\n",
              "      <td>130.034</td>\n",
              "      <td>195692</td>\n",
              "      <td>4</td>\n",
              "      <td>0</td>\n",
              "    </tr>\n",
              "    <tr>\n",
              "      <th>2</th>\n",
              "      <td>0.888</td>\n",
              "      <td>0.580</td>\n",
              "      <td>10</td>\n",
              "      <td>-0.496</td>\n",
              "      <td>1</td>\n",
              "      <td>0.2400</td>\n",
              "      <td>0.598</td>\n",
              "      <td>0.00000</td>\n",
              "      <td>0.1140</td>\n",
              "      <td>0.398</td>\n",
              "      <td>130.107</td>\n",
              "      <td>151038</td>\n",
              "      <td>4</td>\n",
              "      <td>0</td>\n",
              "    </tr>\n",
              "    <tr>\n",
              "      <th>3</th>\n",
              "      <td>0.665</td>\n",
              "      <td>0.507</td>\n",
              "      <td>0</td>\n",
              "      <td>-11.036</td>\n",
              "      <td>1</td>\n",
              "      <td>0.0546</td>\n",
              "      <td>0.489</td>\n",
              "      <td>0.00102</td>\n",
              "      <td>0.1970</td>\n",
              "      <td>0.510</td>\n",
              "      <td>87.017</td>\n",
              "      <td>134574</td>\n",
              "      <td>4</td>\n",
              "      <td>0</td>\n",
              "    </tr>\n",
              "    <tr>\n",
              "      <th>4</th>\n",
              "      <td>0.917</td>\n",
              "      <td>0.621</td>\n",
              "      <td>6</td>\n",
              "      <td>-3.779</td>\n",
              "      <td>0</td>\n",
              "      <td>0.1570</td>\n",
              "      <td>0.095</td>\n",
              "      <td>0.00000</td>\n",
              "      <td>0.0996</td>\n",
              "      <td>0.712</td>\n",
              "      <td>133.146</td>\n",
              "      <td>191567</td>\n",
              "      <td>4</td>\n",
              "      <td>0</td>\n",
              "    </tr>\n",
              "  </tbody>\n",
              "</table>\n",
              "</div>"
            ],
            "text/plain": [
              "   DANCEABILITY  ENERGY  KEY  ...  DURATION_MS  TIME_SIGNATURE  REGIÃO\n",
              "0         0.642   0.600    8  ...       205427               5       0\n",
              "1         0.921   0.534    6  ...       195692               4       0\n",
              "2         0.888   0.580   10  ...       151038               4       0\n",
              "3         0.665   0.507    0  ...       134574               4       0\n",
              "4         0.917   0.621    6  ...       191567               4       0\n",
              "\n",
              "[5 rows x 14 columns]"
            ]
          },
          "metadata": {
            "tags": []
          },
          "execution_count": 3
        }
      ]
    },
    {
      "cell_type": "code",
      "metadata": {
        "colab": {
          "base_uri": "https://localhost:8080/"
        },
        "id": "J3oPwlSboXxP",
        "outputId": "152d812b-56e9-47c6-b1f3-45a3bcf3da93"
      },
      "source": [
        "df.info()"
      ],
      "execution_count": 5,
      "outputs": [
        {
          "output_type": "stream",
          "text": [
            "<class 'pandas.core.frame.DataFrame'>\n",
            "RangeIndex: 500 entries, 0 to 499\n",
            "Data columns (total 14 columns):\n",
            " #   Column            Non-Null Count  Dtype  \n",
            "---  ------            --------------  -----  \n",
            " 0   DANCEABILITY      500 non-null    float64\n",
            " 1   ENERGY            500 non-null    float64\n",
            " 2   KEY               500 non-null    int64  \n",
            " 3   LOUDNESS          500 non-null    float64\n",
            " 4   MODE              500 non-null    int64  \n",
            " 5   SPEECHINESS       500 non-null    float64\n",
            " 6   ACOUSTICNESS      500 non-null    float64\n",
            " 7   INSTRUMENTALNESS  500 non-null    float64\n",
            " 8   LIVENESS          500 non-null    float64\n",
            " 9   VALENCE           500 non-null    float64\n",
            " 10  TEMPO             500 non-null    float64\n",
            " 11  DURATION_MS       500 non-null    int64  \n",
            " 12  TIME_SIGNATURE    500 non-null    int64  \n",
            " 13  REGIÃO            500 non-null    int64  \n",
            "dtypes: float64(9), int64(5)\n",
            "memory usage: 54.8 KB\n"
          ],
          "name": "stdout"
        }
      ]
    },
    {
      "cell_type": "markdown",
      "metadata": {
        "id": "FkvFCTmHptaw"
      },
      "source": [
        "**Belo Horizonte**"
      ]
    },
    {
      "cell_type": "markdown",
      "metadata": {
        "id": "XjGtQfgXqZNH"
      },
      "source": [
        "**Curitiba**"
      ]
    },
    {
      "cell_type": "markdown",
      "metadata": {
        "id": "tD-a_DKnqc81"
      },
      "source": [
        "**São Paulo**"
      ]
    },
    {
      "cell_type": "markdown",
      "metadata": {
        "id": "Y5PaZiBXqgJv"
      },
      "source": [
        "**Brasília**"
      ]
    },
    {
      "cell_type": "markdown",
      "metadata": {
        "id": "GX3kLuWHql9N"
      },
      "source": [
        "**Rio de Janeiro**"
      ]
    }
  ]
}